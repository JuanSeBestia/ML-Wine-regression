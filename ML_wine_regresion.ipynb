{
  "nbformat": 4,
  "nbformat_minor": 0,
  "metadata": {
    "colab": {
      "name": "ML-wine-regresion.ipynb",
      "version": "0.3.2",
      "provenance": [],
      "toc_visible": true,
      "include_colab_link": true
    },
    "kernelspec": {
      "name": "python3",
      "display_name": "Python 3"
    }
  },
  "cells": [
    {
      "cell_type": "markdown",
      "metadata": {
        "id": "view-in-github",
        "colab_type": "text"
      },
      "source": [
        "<a href=\"https://colab.research.google.com/github/JuanSeBestia/ML-Wine-regression/blob/master/ML_wine_regresion.ipynb\" target=\"_parent\"><img src=\"https://colab.research.google.com/assets/colab-badge.svg\" alt=\"Open In Colab\"/></a>"
      ]
    },
    {
      "metadata": {
        "id": "D8aZV7xCDaI5",
        "colab_type": "text"
      },
      "cell_type": "markdown",
      "source": [
        "# ML-wine-regresion\n",
        "\n",
        "Laboratory maked in S4N Academy in course the mathematics applied in Machine Learning (ML)\n",
        "\n",
        "For this laboratory we will use the linear regression to make a model that can predict the quality of the wine according to the characteristics observed in the experiments carried out by wine tasters.\n",
        "\n",
        "For more information about the applied regressión you can consult class 6"
      ]
    },
    {
      "metadata": {
        "id": "lMYzwQ6mDwPj",
        "colab_type": "text"
      },
      "cell_type": "markdown",
      "source": [
        "## Download database\n",
        "The database is hosted on a github repo on \"WineQualityRed.csv\" and \"WineQualityRed.csv\"\n",
        "\n",
        "This database has the samples of some experiments on the quality of the wine, contrasted with the result of some tasters"
      ]
    },
    {
      "metadata": {
        "id": "sjQBwmIoDMKF",
        "colab_type": "code",
        "colab": {
          "base_uri": "https://localhost:8080/",
          "height": 513
        },
        "outputId": "01c2082b-bf78-4fd1-afc6-88e1877366d1"
      },
      "cell_type": "code",
      "source": [
        "!rm -rf ML-Wine-regression\n",
        "!git clone  https://github.com/JuanSeBestia/ML-Wine-regression.git\n",
        "\n",
        "print(\"WineQualityRed\")\n",
        "!head ML-Wine-regression/WineQualityRed.csv\n",
        "print(\"WineQualityWhite\")\n",
        "!head ML-Wine-regression/WineQualityWhite.csv"
      ],
      "execution_count": 10,
      "outputs": [
        {
          "output_type": "stream",
          "text": [
            "Cloning into 'ML-Wine-regression'...\n",
            "remote: Enumerating objects: 11, done.\u001b[K\n",
            "remote: Counting objects:   9% (1/11)   \u001b[K\rremote: Counting objects:  18% (2/11)   \u001b[K\rremote: Counting objects:  27% (3/11)   \u001b[K\rremote: Counting objects:  36% (4/11)   \u001b[K\rremote: Counting objects:  45% (5/11)   \u001b[K\rremote: Counting objects:  54% (6/11)   \u001b[K\rremote: Counting objects:  63% (7/11)   \u001b[K\rremote: Counting objects:  72% (8/11)   \u001b[K\rremote: Counting objects:  81% (9/11)   \u001b[K\rremote: Counting objects:  90% (10/11)   \u001b[K\rremote: Counting objects: 100% (11/11)   \u001b[K\rremote: Counting objects: 100% (11/11), done.\u001b[K\n",
            "remote: Compressing objects:  12% (1/8)   \u001b[K\rremote: Compressing objects:  25% (2/8)   \u001b[K\rremote: Compressing objects:  37% (3/8)   \u001b[K\rremote: Compressing objects:  50% (4/8)   \u001b[K\rremote: Compressing objects:  62% (5/8)   \u001b[K\rremote: Compressing objects:  75% (6/8)   \u001b[K\rremote: Compressing objects:  87% (7/8)   \u001b[K\rremote: Compressing objects: 100% (8/8)   \u001b[K\rremote: Compressing objects: 100% (8/8), done.\u001b[K\n",
            "Unpacking objects:   9% (1/11)   \rUnpacking objects:  18% (2/11)   \rUnpacking objects:  27% (3/11)   \rUnpacking objects:  36% (4/11)   \rUnpacking objects:  45% (5/11)   \rUnpacking objects:  54% (6/11)   \rUnpacking objects:  63% (7/11)   \rUnpacking objects:  72% (8/11)   \rremote: Total 11 (delta 1), reused 11 (delta 1), pack-reused 0\u001b[K\n",
            "Unpacking objects:  81% (9/11)   \rUnpacking objects:  90% (10/11)   \rUnpacking objects: 100% (11/11)   \rUnpacking objects: 100% (11/11), done.\n",
            "WineQualityRed\n",
            ",fixed acidity,volatile acidity,citric acid,residual sugar,chlorides,free sulfur dioxide,total sulfur dioxide,density,pH,sulphates,alcohol,quality\n",
            "0,7.4,0.7,0.0,1.9,0.076,11.0,34.0,0.9978,3.51,0.56,9.4,5\n",
            "1,7.8,0.88,0.0,2.6,0.098,25.0,67.0,0.9968,3.2,0.68,9.8,5\n",
            "2,7.8,0.76,0.04,2.3,0.092,15.0,54.0,0.997,3.26,0.65,9.8,5\n",
            "3,11.2,0.28,0.56,1.9,0.075,17.0,60.0,0.998,3.16,0.58,9.8,6\n",
            "4,7.4,0.7,0.0,1.9,0.076,11.0,34.0,0.9978,3.51,0.56,9.4,5\n",
            "5,7.4,0.66,0.0,1.8,0.075,13.0,40.0,0.9978,3.51,0.56,9.4,5\n",
            "6,7.9,0.6,0.06,1.6,0.069,15.0,59.0,0.9964,3.3,0.46,9.4,5\n",
            "7,7.3,0.65,0.0,1.2,0.065,15.0,21.0,0.9946,3.39,0.47,10.0,7\n",
            "8,7.8,0.58,0.02,2.0,0.073,9.0,18.0,0.9968,3.36,0.57,9.5,7\n",
            "WineQualityWhite\n",
            ",fixed acidity,volatile acidity,citric acid,residual sugar,chlorides,free sulfur dioxide,total sulfur dioxide,density,pH,sulphates,alcohol,quality\n",
            "0,7.0,0.27,0.36,20.7,0.045,45.0,170.0,1.001,3.0,0.45,8.8,6\n",
            "1,6.3,0.3,0.34,1.6,0.049,14.0,132.0,0.9940000000000001,3.3,0.49,9.5,6\n",
            "2,8.1,0.28,0.4,6.9,0.05,30.0,97.0,0.9951,3.26,0.44,10.1,6\n",
            "3,7.2,0.23,0.32,8.5,0.057999999999999996,47.0,186.0,0.9956,3.19,0.4,9.9,6\n",
            "4,7.2,0.23,0.32,8.5,0.057999999999999996,47.0,186.0,0.9956,3.19,0.4,9.9,6\n",
            "5,8.1,0.28,0.4,6.9,0.05,30.0,97.0,0.9951,3.26,0.44,10.1,6\n",
            "6,6.2,0.32,0.16,7.0,0.045,30.0,136.0,0.9949,3.18,0.47,9.6,6\n",
            "7,7.0,0.27,0.36,20.7,0.045,45.0,170.0,1.001,3.0,0.45,8.8,6\n",
            "8,6.3,0.3,0.34,1.6,0.049,14.0,132.0,0.9940000000000001,3.3,0.49,9.5,6\n"
          ],
          "name": "stdout"
        }
      ]
    },
    {
      "metadata": {
        "id": "ufDbNYvuFexq",
        "colab_type": "text"
      },
      "cell_type": "markdown",
      "source": [
        "## Import and Load Database"
      ]
    },
    {
      "metadata": {
        "id": "efa0AJ_YFgJ6",
        "colab_type": "code",
        "colab": {
          "base_uri": "https://localhost:8080/",
          "height": 459
        },
        "outputId": "8ad66bbf-b614-43ce-e581-6bec2272239b"
      },
      "cell_type": "code",
      "source": [
        "import numpy as np\n",
        "import pandas as pd\n",
        "import matplotlib.pyplot as plt\n",
        "from pandas.plotting import scatter_matrix\n",
        "from sklearn.linear_model import LinearRegression\n",
        "from sklearn.metrics import mean_squared_error\n",
        "\n",
        "\n",
        "\n",
        "np.set_printoptions(precision=4, suppress=True)\n",
        "\n",
        "dataWineRed = pd.read_csv(\"ML-Wine-regression/WineQualityRed.csv\", sep=\",\").iloc[:, 1:]\n",
        "dataWineWhite = pd.read_csv(\"ML-Wine-regression/WineQualityWhite.csv\", sep=\",\").iloc[:, 1:]\n",
        "\n",
        "for i in dataWineRed.keys():\n",
        "    print(\"\\t\", \"{:.4f}\".format(dataWineRed[i].min()),\n",
        "          \"\\t\", \"{:.4f}\".format(dataWineRed[i].mean()),\n",
        "          \"\\t\", \"{:.4f}\".format(dataWineRed[i].max()), \"\\t\", i)\n",
        "\n",
        "print()\n",
        "\n",
        "for i in dataWineWhite.keys():\n",
        "    print(\"\\t\", \"{:.4f}\".format(dataWineWhite[i].min()),\n",
        "          \"\\t\", \"{:.4f}\".format(dataWineWhite[i].mean()),\n",
        "          \"\\t\", \"{:.4f}\".format(dataWineWhite[i].max()), \"\\t\", i)\n",
        "\n",
        "print()"
      ],
      "execution_count": 6,
      "outputs": [
        {
          "output_type": "stream",
          "text": [
            "\t 4.6000 \t 8.3196 \t 15.9000 \t fixed acidity\n",
            "\t 0.1200 \t 0.5278 \t 1.5800 \t volatile acidity\n",
            "\t 0.0000 \t 0.2710 \t 1.0000 \t citric acid\n",
            "\t 0.9000 \t 2.5388 \t 15.5000 \t residual sugar\n",
            "\t 0.0120 \t 0.0875 \t 0.6110 \t chlorides\n",
            "\t 1.0000 \t 15.8749 \t 72.0000 \t free sulfur dioxide\n",
            "\t 6.0000 \t 46.4678 \t 289.0000 \t total sulfur dioxide\n",
            "\t 0.9901 \t 0.9967 \t 1.0037 \t density\n",
            "\t 2.7400 \t 3.3111 \t 4.0100 \t pH\n",
            "\t 0.3300 \t 0.6581 \t 2.0000 \t sulphates\n",
            "\t 8.4000 \t 10.4230 \t 14.9000 \t alcohol\n",
            "\t 3.0000 \t 5.6360 \t 8.0000 \t quality\n",
            "\n",
            "\t 3.8000 \t 6.8548 \t 14.2000 \t fixed acidity\n",
            "\t 0.0800 \t 0.2782 \t 1.1000 \t volatile acidity\n",
            "\t 0.0000 \t 0.3342 \t 1.6600 \t citric acid\n",
            "\t 0.6000 \t 6.3914 \t 65.8000 \t residual sugar\n",
            "\t 0.0090 \t 0.0458 \t 0.3460 \t chlorides\n",
            "\t 2.0000 \t 35.3081 \t 289.0000 \t free sulfur dioxide\n",
            "\t 9.0000 \t 138.3607 \t 440.0000 \t total sulfur dioxide\n",
            "\t 0.9871 \t 0.9940 \t 1.0390 \t density\n",
            "\t 2.7200 \t 3.1883 \t 3.8200 \t pH\n",
            "\t 0.2200 \t 0.4898 \t 1.0800 \t sulphates\n",
            "\t 8.0000 \t 10.5143 \t 14.2000 \t alcohol\n",
            "\t 3.0000 \t 5.8779 \t 9.0000 \t quality\n",
            "\n"
          ],
          "name": "stdout"
        }
      ]
    },
    {
      "metadata": {
        "id": "OABqpl0-GEw-",
        "colab_type": "text"
      },
      "cell_type": "markdown",
      "source": [
        "## Mix the samples"
      ]
    },
    {
      "metadata": {
        "id": "wZxztWEFGNR-",
        "colab_type": "code",
        "colab": {}
      },
      "cell_type": "code",
      "source": [
        "shuffleWineRed = dataWineRed.sample(frac=1)\n",
        "shuffleWineWhite = dataWineWhite.sample(frac=1)"
      ],
      "execution_count": 0,
      "outputs": []
    },
    {
      "metadata": {
        "id": "FrNu-thcGOw9",
        "colab_type": "text"
      },
      "cell_type": "markdown",
      "source": [
        "## Separate samples (training, tests)"
      ]
    },
    {
      "metadata": {
        "id": "CxQy1hW9GizI",
        "colab_type": "code",
        "colab": {
          "base_uri": "https://localhost:8080/",
          "height": 187
        },
        "outputId": "05e9459e-fe33-45a9-adc7-84bd49f03ec9"
      },
      "cell_type": "code",
      "source": [
        "numTrainRed = np.floor(0.8*len(shuffleWineRed.index)).astype(np.int)\n",
        "numTrainWhite = np.floor(0.8*len(shuffleWineWhite.index)).astype(np.int)\n",
        "\n",
        "trainWineRedX = shuffleWineRed.iloc[:numTrainRed, :-1]\n",
        "trainWineRedY = shuffleWineRed.iloc[:numTrainRed, -1]\n",
        "testWineRedX = shuffleWineRed.iloc[numTrainRed:, :-1]\n",
        "testWineRedY = shuffleWineRed.iloc[numTrainRed:, -1]\n",
        "trainWineWhiteX = shuffleWineWhite.iloc[:numTrainWhite, :-1]\n",
        "trainWineWhiteY = shuffleWineWhite.iloc[:numTrainWhite, -1]\n",
        "testWineWhiteX = shuffleWineWhite.iloc[numTrainWhite:, :-1]\n",
        "testWineWhiteY = shuffleWineWhite.iloc[numTrainWhite:, -1]\n",
        "\n",
        "print(trainWineRedX.shape)\n",
        "print(trainWineRedY.shape)\n",
        "print(testWineRedX.shape)\n",
        "print(testWineRedY.shape)\n",
        "print()\n",
        "\n",
        "print(trainWineWhiteX.shape)\n",
        "print(trainWineWhiteY.shape)\n",
        "print(testWineWhiteX.shape)\n",
        "print(testWineWhiteY.shape)\n",
        "print()\n"
      ],
      "execution_count": 9,
      "outputs": [
        {
          "output_type": "stream",
          "text": [
            "(1279, 11)\n",
            "(1279,)\n",
            "(320, 11)\n",
            "(320,)\n",
            "\n",
            "(3918, 11)\n",
            "(3918,)\n",
            "(980, 11)\n",
            "(980,)\n",
            "\n"
          ],
          "name": "stdout"
        }
      ]
    },
    {
      "metadata": {
        "id": "vLpalP0EHVCf",
        "colab_type": "text"
      },
      "cell_type": "markdown",
      "source": [
        "## Found the coeficients for model"
      ]
    },
    {
      "metadata": {
        "id": "FUtp0KaXHmS0",
        "colab_type": "code",
        "colab": {
          "base_uri": "https://localhost:8080/",
          "height": 474
        },
        "outputId": "d9218303-414a-4238-c4b0-6f6fbaef455a"
      },
      "cell_type": "code",
      "source": [
        "from IPython.display import Image\n",
        "Image(\"ML-Wine-regression/CalculateCoeficcients.png\")"
      ],
      "execution_count": 11,
      "outputs": [
        {
          "output_type": "execute_result",
          "data": {
            "image/png": "[encoded data removed]",
            "text/plain": [
              "<IPython.core.display.Image object>"
            ]
          },
          "metadata": {
            "tags": []
          },
          "execution_count": 11
        }
      ]
    },
    {
      "metadata": {
        "id": "hmhkHJA8HrmC",
        "colab_type": "code",
        "colab": {
          "base_uri": "https://localhost:8080/",
          "height": 68
        },
        "outputId": "a78230cc-348a-42ee-f6ed-c1dd9b40fda6"
      },
      "cell_type": "code",
      "source": [
        "print(\"WineRed\")\n",
        "matXRed = np.append(np.ones((numTrainRed, 1)), trainWineRedX.values, axis=1)\n",
        "XporXRed = np.matmul(np.transpose(matXRed), matXRed)\n",
        "invXporXRed = np.linalg.inv(XporXRed)\n",
        "XporYRed = np.matmul(np.transpose(matXRed), trainWineRedY.values)\n",
        "coefBetaRed = np.matmul(invXporXRed, XporYRed)\n",
        "print(coefBetaRed)\n",
        "print()\n"
      ],
      "execution_count": 12,
      "outputs": [
        {
          "output_type": "stream",
          "text": [
            "[ 36.2202   0.0272  -1.0509  -0.1141   0.0308  -1.7041   0.0046  -0.0036\n",
            " -32.5823  -0.3092   0.9871   0.2685]\n",
            "\n"
          ],
          "name": "stdout"
        }
      ]
    },
    {
      "metadata": {
        "id": "3Zp0geQAIMvq",
        "colab_type": "code",
        "colab": {
          "base_uri": "https://localhost:8080/",
          "height": 85
        },
        "outputId": "d186cf13-e0c2-43bc-dc03-7d2022897067"
      },
      "cell_type": "code",
      "source": [
        "print(\"WineWhite\")\n",
        "matXWhite = np.append(np.ones((numTrainWhite, 1)), trainWineWhiteX.values, axis=1)\n",
        "XporXWhite = np.matmul(np.transpose(matXWhite), matXWhite)\n",
        "invXporXWhite = np.linalg.inv(XporXWhite)\n",
        "XporYWhite = np.matmul(np.transpose(matXWhite), trainWineWhiteY.values)\n",
        "coefBetaWhite = np.matmul(invXporXWhite, XporYWhite)\n",
        "print(coefBetaWhite)\n",
        "print()"
      ],
      "execution_count": 13,
      "outputs": [
        {
          "output_type": "stream",
          "text": [
            "WineWhite\n",
            "[ 133.5215    0.0714   -1.7878   -0.0525    0.0754   -0.4966    0.005\n",
            "   -0.0002 -133.6397    0.6334    0.6097    0.2195]\n",
            "\n"
          ],
          "name": "stdout"
        }
      ]
    },
    {
      "metadata": {
        "id": "ymXtEkNsIS9_",
        "colab_type": "text"
      },
      "cell_type": "markdown",
      "source": [
        "You can use LinearRegression from the sklearn library, to do the same"
      ]
    },
    {
      "metadata": {
        "id": "SRTlsWsYICQT",
        "colab_type": "code",
        "colab": {
          "base_uri": "https://localhost:8080/",
          "height": 156
        },
        "outputId": "6560aa9d-e332-4367-cf9d-951f2aa618e6"
      },
      "cell_type": "code",
      "source": [
        "linRegRed = LinearRegression()\n",
        "linRegRed.fit(trainWineRedX, trainWineRedY)\n",
        "predictWineRed = linRegRed.predict(testWineRedX)\n",
        "MSERed = mean_squared_error(testWineRedY, predictWineRed)\n",
        "print(\"Linear regression results for the RED Wine\")\n",
        "print(\"Regression intercept:\\t\", linRegRed.intercept_)\n",
        "print(\"Linear regression coefficients: \", linRegRed.coef_)\n",
        "print(\"Mean square error:\\t\\t\", \"{:.4F}\".format(MSERed))\n",
        "print(\"Root mean square error:\\t\", \"{:.4f}\".format(np.sqrt(MSERed)))\n",
        "print()"
      ],
      "execution_count": 15,
      "outputs": [
        {
          "output_type": "stream",
          "text": [
            "Linear regression results for the RED Wine\n",
            "Regression intercept:\t 36.2201654898935\n",
            "Linear regression coefficients:  [  0.0272  -1.0509  -0.1141   0.0308  -1.7041   0.0046  -0.0036 -32.5823\n",
            "  -0.3092   0.9871   0.2685]\n",
            "Mean square error:\t\t 0.4577\n",
            "Root mean square error:\t 0.6765\n",
            "\n"
          ],
          "name": "stdout"
        }
      ]
    },
    {
      "metadata": {
        "id": "OoP11Q59IUX-",
        "colab_type": "code",
        "colab": {
          "base_uri": "https://localhost:8080/",
          "height": 156
        },
        "outputId": "59ef8a5f-9458-4355-fe36-e4ecd76f6110"
      },
      "cell_type": "code",
      "source": [
        "linRegWhite = LinearRegression()\n",
        "linRegWhite.fit(trainWineWhiteX, trainWineWhiteY)\n",
        "predictWineWhite = linRegWhite.predict(testWineWhiteX)\n",
        "MSEWhite = mean_squared_error(testWineWhiteY, predictWineWhite)\n",
        "print(\"Linear regression results for the WHITE Wine\")\n",
        "print(\"Regression intercept:\\t\", linRegWhite.intercept_)\n",
        "print(\"Linear regression coefficients: \", linRegWhite.coef_)\n",
        "print(\"Mean square error:\\t\\t\", \"{:.4F}\".format(MSEWhite))\n",
        "print(\"Root mean square error:\\t\", \"{:.4f}\".format(np.sqrt(MSEWhite)))\n",
        "print()"
      ],
      "execution_count": 16,
      "outputs": [
        {
          "output_type": "stream",
          "text": [
            "Linear regression results for the WHITE Wine\n",
            "Regression intercept:\t 133.5214565611637\n",
            "Linear regression coefficients:  [   0.0714   -1.7878   -0.0525    0.0754   -0.4966    0.005    -0.0002\n",
            " -133.6397    0.6334    0.6097    0.2195]\n",
            "Mean square error:\t\t 0.5880\n",
            "Root mean square error:\t 0.7668\n",
            "\n"
          ],
          "name": "stdout"
        }
      ]
    }
  ]
}